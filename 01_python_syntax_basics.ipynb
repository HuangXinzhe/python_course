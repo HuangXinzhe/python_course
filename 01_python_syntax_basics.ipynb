{
 "cells": [
  {
   "cell_type": "markdown",
   "metadata": {},
   "source": [
    "# 第一章 Python语法基础"
   ]
  },
  {
   "cell_type": "markdown",
   "metadata": {},
   "source": [
    "- 目前十大最常用的数据工具中有8个来自或利用Python。\n",
    "- Python广泛应用与所有数据科学领域，包括：\n",
    "    - 数据分析\n",
    "    - 机器学习\n",
    "    - 深度学习\n",
    "    - 数据可视化"
   ]
  },
  {
   "cell_type": "markdown",
   "metadata": {},
   "source": [
    "## 1.1 Python概述\n",
    "- Python大致可以归类为以下3个方面：\n",
    "    - Web开发\n",
    "    - 数据科学\n",
    "    - 脚本\n",
    "- Python语言的优点\n",
    "    - 代码简洁易懂\n",
    "    - 扩展性强\n",
    "    - 类库资源多，完善\n",
    "- Python的创始人为Guido van Rossum，1989年圣诞节期间，在阿姆斯特丹，为了打发圣诞节的无趣，开发的一个新的脚本解释程序，作为ABC语言的一种继承。取名为Python（大蟒蛇）是因为他是Monty Python喜剧团的爱好者。\n"
   ]
  },
  {
   "cell_type": "markdown",
   "metadata": {},
   "source": [
    "## 1.2 Anaconda\n",
    "- 包管理器（Conda）：Anaconda 自带了一个强大的包管理器叫做Conda，它不仅能够安装和管理Python包，还能管理其他语言的包和环境。\n",
    "- 环境管理：Conda允许用户创建隔离的环境，这意味着可以在同一台机器上安装不同版本的Python和包，而不会相互干扰。\n",
    "- 预装包：Anaconda默认安装了超过1500个数据科学包，包括 NumPy、Pandas、SciPy、Matplotlib等。"
   ]
  },
  {
   "cell_type": "markdown",
   "metadata": {},
   "source": [
    "### 1.2.1 安装Anaconda\n",
    "- Anaconda安装官网地址\n",
    "    - https://www.anaconda.com/download/success\n",
    "    - 安装教程：https://blog.csdn.net/wq_ocean_/article/details/103889237\n",
    "\n",
    "- 练习（打开终端）\n",
    "    1. 查找指定的库\n",
    "        - conda search jieba\n",
    "    2. 安装指定的的库\n",
    "        - conda install jieba\n",
    "        - pip install jieba\n",
    "    3. 查看所有已安装的库\n",
    "        - conda list\n",
    "    4. 创建一个名为python35的虚拟环境\n",
    "        - conda create --name python35 python=3.5\n",
    "    5. 使用activate激活python35环境\n",
    "        - Windows\n",
    "            - activate python35\n",
    "        - Linux或Mac\n",
    "            - source activate python35\n",
    "            - conda activate python35\n",
    "    6. 关闭激活的环境回到默认的环境\n",
    "        - Windows\n",
    "            - deactivate python35\n",
    "        - Linux或Mac\n",
    "            - source deactivate python35\n",
    "            - conda deactivate python35\n",
    "    7. 在指定的环境中按照库\n",
    "        - conda install -n python35 numbpy\n",
    "    8. 在指定的环境中删除库\n",
    "        - conda remove -n python35 numpy\n",
    "    9. 删除一个已有的环境\n",
    "        - conda remove -name python35 --all"
   ]
  },
  {
   "cell_type": "markdown",
   "metadata": {},
   "source": [
    "### 1.2.2 Visual Studio Code\n",
    "- 安装\n",
    "    - https://code.visualstudio.com/Download\n",
    "- 练习\n",
    "    - 安装VS code\n",
    "    - 本地创建一个文件夹作为代码存储，并在VS code中打开\n",
    "    - 创建ipynb文件，选择Python解释器\n",
    "    - 增加code单元格\n",
    "    - 运行代码单元格\n",
    "    - 删除单元格\n",
    "    - 增加Markdown单元格\n"
   ]
  },
  {
   "cell_type": "code",
   "execution_count": 1,
   "metadata": {},
   "outputs": [
    {
     "name": "stdout",
     "output_type": "stream",
     "text": [
      "Hello World!\n"
     ]
    }
   ],
   "source": [
    "print(\"Hello World!\")"
   ]
  },
  {
   "cell_type": "markdown",
   "metadata": {},
   "source": [
    "### 1.2.3 代码辅助工具\n",
    "插件\n",
    "- CodeGeeX\n",
    "- GitHub Copilot\n",
    "\n",
    "主要功能：\n",
    "- 代码补全\n",
    "- 代码生成\n",
    "- 代码注释\n",
    "- 代码解释\n",
    "- 代码测试\n",
    "- 等"
   ]
  },
  {
   "cell_type": "code",
   "execution_count": null,
   "metadata": {},
   "outputs": [
    {
     "data": {
      "text/plain": [
       "[1, 2, 3, 4, 5]"
      ]
     },
     "execution_count": 1,
     "metadata": {},
     "output_type": "execute_result"
    }
   ],
   "source": [
    "# 冒泡排序\n",
    "def bubble_sort(lis):\n",
    "    # 外层循环控制比较的轮数\n",
    "    for i in range(len(lis)):\n",
    "        # 内层循环控制每一轮比较的次数\n",
    "        for j in range(len(lis) - 1):\n",
    "            # 如果前一个元素大于后一个元素，则交换它们的位置\n",
    "            if lis[j] > lis[j + 1]:\n",
    "                lis[j], lis[j + 1] = lis[j + 1], lis[j]\n",
    "    # 返回排序后的列表\n",
    "    return lis\n",
    "# 测试\n",
    "bubble_sort([1, 2, 3, 4, 5])"
   ]
  },
  {
   "cell_type": "markdown",
   "metadata": {},
   "source": [
    "### 1.2.4 大模型推荐\n",
    "- ChatGPT：https://chatgpt.com/\n",
    "- ChatGLM：https://chatglm.cn/\n",
    "- Kimi：https://kimi.moonshot.cn/"
   ]
  },
  {
   "cell_type": "markdown",
   "metadata": {},
   "source": [
    "## 1.3 语法规范\n",
    "Python是一种解释型、面向对象、动态数据类型的高级程序设计语言。下面先了解几个Python语法常识。"
   ]
  },
  {
   "cell_type": "markdown",
   "metadata": {},
   "source": [
    "#### 1. 用缩进来表示分层\n",
    "- 在编写程序代码时，需要有层次感，也就是说让我们能够很清晰地看出某段代码或某代码块的功能。\n",
    "- Python的代码块是使用缩进4个空格来表示分层的，也可以使用一个“Tab”键来替代4个空格"
   ]
  },
  {
   "cell_type": "code",
   "execution_count": null,
   "metadata": {},
   "outputs": [
    {
     "name": "stdout",
     "output_type": "stream",
     "text": [
      "2\n"
     ]
    }
   ],
   "source": [
    "i = 2\n",
    "lis = [1, 2, 3]\n",
    "if i in lis: \n",
    "    print(i)"
   ]
  },
  {
   "cell_type": "markdown",
   "metadata": {},
   "source": [
    "#### 2. 引号的使用\n",
    "字符串（String）是由数字、字母、下划线组成\n",
    "- 使用单引号或双引号表示单行字符串\n",
    "- 使用三引号表示多行字符串"
   ]
  },
  {
   "cell_type": "code",
   "execution_count": 8,
   "metadata": {},
   "outputs": [
    {
     "name": "stdout",
     "output_type": "stream",
     "text": [
      "Hello World!\n"
     ]
    }
   ],
   "source": [
    "print('Hello World!')"
   ]
  },
  {
   "cell_type": "code",
   "execution_count": 9,
   "metadata": {},
   "outputs": [
    {
     "name": "stdout",
     "output_type": "stream",
     "text": [
      "Hello World!\n"
     ]
    }
   ],
   "source": [
    "print(\"Hello World!\")"
   ]
  },
  {
   "cell_type": "code",
   "execution_count": 2,
   "metadata": {},
   "outputs": [
    {
     "name": "stdout",
     "output_type": "stream",
     "text": [
      "\n",
      "Hello\n",
      "World\n",
      "!\n",
      "\n"
     ]
    }
   ],
   "source": [
    "print('''\n",
    "Hello\n",
    "World\n",
    "!\n",
    "''')"
   ]
  },
  {
   "cell_type": "code",
   "execution_count": 5,
   "metadata": {},
   "outputs": [
    {
     "name": "stdout",
     "output_type": "stream",
     "text": [
      "\n",
      "Hello\n",
      "World\n",
      "!\n",
      "\n"
     ]
    }
   ],
   "source": [
    "print(\"\"\"\n",
    "Hello\n",
    "World\n",
    "!\n",
    "\"\"\")"
   ]
  },
  {
   "cell_type": "markdown",
   "metadata": {},
   "source": [
    "#### 3. 代码注释方法\n",
    "- 所谓注释，就是解释、说明此行代码的功能、用途等\n",
    "- 注释部分不被计算机执行\n",
    "- 写代码时，要养成良好的习惯，给代码写注释。（不仅是给自己带来方便，也可以给读你的代码的人带来方便）\n",
    "- 注释是写给程序员看的，不是给机器执行的，尽可能多地对代码进行注释\n",
    "\n",
    "注释代码以下两种方法\n",
    "1. 在一行中，“#”后的语句不再执行，而表示被注释\n",
    "2. 如果要进行大段的注释可以使用三引号（'''或\"\"\"）将注释内容包围"
   ]
  },
  {
   "cell_type": "code",
   "execution_count": 3,
   "metadata": {},
   "outputs": [
    {
     "name": "stdout",
     "output_type": "stream",
     "text": [
      "您输入的是： 2\n"
     ]
    }
   ],
   "source": [
    "\"\"\"\n",
    "Created on Sat Nov 9 21:26:45 2024\n",
    "@author: huangxinzhe\n",
    "\"\"\"\n",
    "k = input(\"请输入：\")  # 接收键盘输入\n",
    "if k.isdigit():  # 判断输入是否为数字\n",
    "    print(\"您输入的是：\", k)  # 将接收到的打印出来\n",
    "else:\n",
    "    print(\"您输入的不是数字，而是字母：\", k)  # 将接收到的打印出来  "
   ]
  },
  {
   "cell_type": "markdown",
   "metadata": {},
   "source": [
    "#### 4. print()的作用\n",
    "在输出窗口中显示一些文本或结果，便于监控、验证和显示数据"
   ]
  },
  {
   "cell_type": "code",
   "execution_count": 7,
   "metadata": {},
   "outputs": [],
   "source": [
    "A = input(\"从键盘接收输入：\")"
   ]
  },
  {
   "cell_type": "code",
   "execution_count": 8,
   "metadata": {},
   "outputs": [
    {
     "name": "stdout",
     "output_type": "stream",
     "text": [
      "打印出刚才的输入A: Hello World!\n"
     ]
    }
   ],
   "source": [
    "print(\"打印出刚才的输入A:\", A)"
   ]
  },
  {
   "cell_type": "markdown",
   "metadata": {},
   "source": [
    "#### 5. 变量的命名\n",
    "变量命名规则如下\n",
    "1. 变量名的长度不受限制，但其中的字符必须是字母、数字或者下划线，而不能使用空格、连字符、标点符号、引号或其他字符\n",
    "2. 变量名的第一字符不能是数字，必须是字母或下划线。\n",
    "3. 变量名区分大小写。\n",
    "4. 不能将关键字用作变量名，如while、in、type等。"
   ]
  },
  {
   "cell_type": "markdown",
   "metadata": {},
   "source": [
    "#### 6. 语句断行\n",
    "- 一般Python一条语句占一行\n",
    "- 如果想将两条简单语句写在一行，需要在每条语句的结尾处加上“；”\n",
    "- 如果一条语句较长要分几行来写，可以使用反斜杠“\\”来表示语句的延续\n",
    "- 分号还有个作用，在一行语句的末尾使用，表示对本行语句的结果不打印输出"
   ]
  },
  {
   "cell_type": "markdown",
   "metadata": {},
   "source": [
    "#### 7. 标识符\n",
    "- 标识符是开发人员在程序中自定义的一些符号和名称，如变量名、函数名等。\n",
    "- 标识符由字母、下划线和数字组成，并且开头不能是数字，具体为以下三点。\n",
    "    1. 必须以字母或下划线开头\n",
    "    2. 标识符其他部分是字母、下划线和数字\n",
    "    3. 大小写敏感\n",
    "- 变量、函数等命名规则是见名之意。\n",
    "- 命名方法\n",
    "    - 驼峰命名法：每个单词的首字母大写，如：MyVariable\n",
    "    - 单词之间用下划线连接"
   ]
  },
  {
   "cell_type": "code",
   "execution_count": 10,
   "metadata": {},
   "outputs": [],
   "source": [
    "FirstName = \"昕哲\"\n",
    "LastName = \"黄\"\n",
    "\n",
    "first_name = \"昕哲\"\n",
    "last_name = \"黄\""
   ]
  },
  {
   "cell_type": "markdown",
   "metadata": {},
   "source": [
    "#### 8. Python运算符\n",
    "- 数值运算符\n",
    "- 比较运算符\n",
    "- 赋值运算符\n",
    "- 位运算符\n",
    "- 逻辑运算符\n",
    "- 成员运算符\n",
    "- 身份运算符"
   ]
  },
  {
   "cell_type": "markdown",
   "metadata": {},
   "source": [
    "数值运算符"
   ]
  },
  {
   "cell_type": "code",
   "execution_count": 13,
   "metadata": {},
   "outputs": [
    {
     "data": {
      "text/plain": [
       "3"
      ]
     },
     "execution_count": 13,
     "metadata": {},
     "output_type": "execute_result"
    }
   ],
   "source": [
    "# 加法\n",
    "x = 1\n",
    "y = 2\n",
    "x + y"
   ]
  },
  {
   "cell_type": "code",
   "execution_count": 14,
   "metadata": {},
   "outputs": [
    {
     "data": {
      "text/plain": [
       "-1"
      ]
     },
     "execution_count": 14,
     "metadata": {},
     "output_type": "execute_result"
    }
   ],
   "source": [
    "# 减法\n",
    "x = 1\n",
    "y = 2\n",
    "x - y"
   ]
  },
  {
   "cell_type": "code",
   "execution_count": 15,
   "metadata": {},
   "outputs": [
    {
     "data": {
      "text/plain": [
       "2"
      ]
     },
     "execution_count": 15,
     "metadata": {},
     "output_type": "execute_result"
    }
   ],
   "source": [
    "# 乘法\n",
    "x = 1\n",
    "y = 2\n",
    "x * y"
   ]
  },
  {
   "cell_type": "code",
   "execution_count": 16,
   "metadata": {},
   "outputs": [
    {
     "data": {
      "text/plain": [
       "0.5"
      ]
     },
     "execution_count": 16,
     "metadata": {},
     "output_type": "execute_result"
    }
   ],
   "source": [
    "# 除法\n",
    "x = 1\n",
    "y = 2\n",
    "x / y"
   ]
  },
  {
   "cell_type": "code",
   "execution_count": 17,
   "metadata": {},
   "outputs": [
    {
     "data": {
      "text/plain": [
       "1"
      ]
     },
     "execution_count": 17,
     "metadata": {},
     "output_type": "execute_result"
    }
   ],
   "source": [
    "# 取余\n",
    "x = 1\n",
    "y = 2\n",
    "x % y"
   ]
  },
  {
   "cell_type": "code",
   "execution_count": 18,
   "metadata": {},
   "outputs": [
    {
     "data": {
      "text/plain": [
       "0"
      ]
     },
     "execution_count": 18,
     "metadata": {},
     "output_type": "execute_result"
    }
   ],
   "source": [
    "# 整除\n",
    "x = 1\n",
    "y = 2\n",
    "x // y"
   ]
  },
  {
   "cell_type": "code",
   "execution_count": 20,
   "metadata": {},
   "outputs": [
    {
     "data": {
      "text/plain": [
       "4"
      ]
     },
     "execution_count": 20,
     "metadata": {},
     "output_type": "execute_result"
    }
   ],
   "source": [
    "# 幂运算\n",
    "x = 2\n",
    "y = 2\n",
    "x ** y"
   ]
  },
  {
   "cell_type": "code",
   "execution_count": 21,
   "metadata": {},
   "outputs": [
    {
     "data": {
      "text/plain": [
       "1"
      ]
     },
     "execution_count": 21,
     "metadata": {},
     "output_type": "execute_result"
    }
   ],
   "source": [
    "# 绝对值\n",
    "x = -1\n",
    "abs(x)"
   ]
  },
  {
   "cell_type": "code",
   "execution_count": 22,
   "metadata": {},
   "outputs": [
    {
     "data": {
      "text/plain": [
       "1"
      ]
     },
     "execution_count": 22,
     "metadata": {},
     "output_type": "execute_result"
    }
   ],
   "source": [
    "# 整数值\n",
    "x = 1.5\n",
    "int(x)"
   ]
  },
  {
   "cell_type": "code",
   "execution_count": 23,
   "metadata": {},
   "outputs": [
    {
     "data": {
      "text/plain": [
       "1.0"
      ]
     },
     "execution_count": 23,
     "metadata": {},
     "output_type": "execute_result"
    }
   ],
   "source": [
    "# 浮点值\n",
    "x = 1\n",
    "float(x)"
   ]
  },
  {
   "cell_type": "code",
   "execution_count": 24,
   "metadata": {},
   "outputs": [
    {
     "data": {
      "text/plain": [
       "(1+2j)"
      ]
     },
     "execution_count": 24,
     "metadata": {},
     "output_type": "execute_result"
    }
   ],
   "source": [
    "# 定义复数\n",
    "complex(1, 2)"
   ]
  },
  {
   "cell_type": "code",
   "execution_count": 26,
   "metadata": {},
   "outputs": [
    {
     "data": {
      "text/plain": [
       "(1-2j)"
      ]
     },
     "execution_count": 26,
     "metadata": {},
     "output_type": "execute_result"
    }
   ],
   "source": [
    "# 共轭复数\n",
    "c = complex(1, 2)\n",
    "c.conjugate()"
   ]
  },
  {
   "cell_type": "code",
   "execution_count": null,
   "metadata": {},
   "outputs": [
    {
     "data": {
      "text/plain": [
       "(0, 1)"
      ]
     },
     "execution_count": 27,
     "metadata": {},
     "output_type": "execute_result"
    }
   ],
   "source": [
    "# 返回整除和余数\n",
    "divmod(1, 2)"
   ]
  },
  {
   "cell_type": "code",
   "execution_count": 28,
   "metadata": {},
   "outputs": [
    {
     "data": {
      "text/plain": [
       "8"
      ]
     },
     "execution_count": 28,
     "metadata": {},
     "output_type": "execute_result"
    }
   ],
   "source": [
    "# 次方\n",
    "pow(2, 3)"
   ]
  },
  {
   "cell_type": "markdown",
   "metadata": {},
   "source": [
    "比较运算符"
   ]
  },
  {
   "cell_type": "code",
   "execution_count": 29,
   "metadata": {},
   "outputs": [
    {
     "data": {
      "text/plain": [
       "False"
      ]
     },
     "execution_count": 29,
     "metadata": {},
     "output_type": "execute_result"
    }
   ],
   "source": [
    "# 大于\n",
    "x = 1\n",
    "y = 2\n",
    "x > y"
   ]
  },
  {
   "cell_type": "code",
   "execution_count": 30,
   "metadata": {},
   "outputs": [
    {
     "data": {
      "text/plain": [
       "True"
      ]
     },
     "execution_count": 30,
     "metadata": {},
     "output_type": "execute_result"
    }
   ],
   "source": [
    "# 小于\n",
    "x = 1\n",
    "y = 2\n",
    "x < y"
   ]
  },
  {
   "cell_type": "code",
   "execution_count": 31,
   "metadata": {},
   "outputs": [
    {
     "data": {
      "text/plain": [
       "False"
      ]
     },
     "execution_count": 31,
     "metadata": {},
     "output_type": "execute_result"
    }
   ],
   "source": [
    "# 等于\n",
    "x = 1\n",
    "y = 2\n",
    "x == y"
   ]
  },
  {
   "cell_type": "code",
   "execution_count": 32,
   "metadata": {},
   "outputs": [
    {
     "data": {
      "text/plain": [
       "True"
      ]
     },
     "execution_count": 32,
     "metadata": {},
     "output_type": "execute_result"
    }
   ],
   "source": [
    "# 不等于\n",
    "x = 1\n",
    "y = 2\n",
    "x != y"
   ]
  },
  {
   "cell_type": "code",
   "execution_count": 33,
   "metadata": {},
   "outputs": [
    {
     "data": {
      "text/plain": [
       "False"
      ]
     },
     "execution_count": 33,
     "metadata": {},
     "output_type": "execute_result"
    }
   ],
   "source": [
    "# 大于等于\n",
    "x = 1\n",
    "y = 2\n",
    "x >= y"
   ]
  },
  {
   "cell_type": "code",
   "execution_count": 34,
   "metadata": {},
   "outputs": [
    {
     "data": {
      "text/plain": [
       "True"
      ]
     },
     "execution_count": 34,
     "metadata": {},
     "output_type": "execute_result"
    }
   ],
   "source": [
    "# 小于等于\n",
    "x = 1\n",
    "y = 2\n",
    "x <= y"
   ]
  },
  {
   "cell_type": "markdown",
   "metadata": {},
   "source": [
    "赋值运算符"
   ]
  },
  {
   "cell_type": "code",
   "execution_count": 35,
   "metadata": {},
   "outputs": [
    {
     "data": {
      "text/plain": [
       "1"
      ]
     },
     "execution_count": 35,
     "metadata": {},
     "output_type": "execute_result"
    }
   ],
   "source": [
    "# 赋值\n",
    "x = 1\n",
    "x"
   ]
  },
  {
   "cell_type": "code",
   "execution_count": null,
   "metadata": {},
   "outputs": [
    {
     "data": {
      "text/plain": [
       "2"
      ]
     },
     "execution_count": 36,
     "metadata": {},
     "output_type": "execute_result"
    }
   ],
   "source": [
    "# 加等于\n",
    "x = 1\n",
    "x += 1  # x = x + 1\n",
    "x"
   ]
  },
  {
   "cell_type": "code",
   "execution_count": 37,
   "metadata": {},
   "outputs": [
    {
     "data": {
      "text/plain": [
       "0"
      ]
     },
     "execution_count": 37,
     "metadata": {},
     "output_type": "execute_result"
    }
   ],
   "source": [
    "# 减等于\n",
    "x = 1\n",
    "x -= 1\n",
    "x"
   ]
  },
  {
   "cell_type": "code",
   "execution_count": 38,
   "metadata": {},
   "outputs": [
    {
     "data": {
      "text/plain": [
       "2"
      ]
     },
     "execution_count": 38,
     "metadata": {},
     "output_type": "execute_result"
    }
   ],
   "source": [
    "# 乘等于\n",
    "x = 1\n",
    "x *= 2\n",
    "x"
   ]
  },
  {
   "cell_type": "code",
   "execution_count": 39,
   "metadata": {},
   "outputs": [
    {
     "data": {
      "text/plain": [
       "0.5"
      ]
     },
     "execution_count": 39,
     "metadata": {},
     "output_type": "execute_result"
    }
   ],
   "source": [
    "# 除等于\n",
    "x = 1\n",
    "x /= 2\n",
    "x"
   ]
  },
  {
   "cell_type": "code",
   "execution_count": 40,
   "metadata": {},
   "outputs": [
    {
     "data": {
      "text/plain": [
       "1"
      ]
     },
     "execution_count": 40,
     "metadata": {},
     "output_type": "execute_result"
    }
   ],
   "source": [
    "# 取余等于\n",
    "x = 1\n",
    "x %= 2\n",
    "x"
   ]
  },
  {
   "cell_type": "code",
   "execution_count": 41,
   "metadata": {},
   "outputs": [
    {
     "data": {
      "text/plain": [
       "0"
      ]
     },
     "execution_count": 41,
     "metadata": {},
     "output_type": "execute_result"
    }
   ],
   "source": [
    "# 整除等于\n",
    "x = 1\n",
    "x //= 2\n",
    "x"
   ]
  },
  {
   "cell_type": "code",
   "execution_count": 42,
   "metadata": {},
   "outputs": [
    {
     "data": {
      "text/plain": [
       "4"
      ]
     },
     "execution_count": 42,
     "metadata": {},
     "output_type": "execute_result"
    }
   ],
   "source": [
    "# 幂等于\n",
    "x = 2\n",
    "x **= 2\n",
    "x"
   ]
  },
  {
   "cell_type": "markdown",
   "metadata": {},
   "source": [
    "位运算符"
   ]
  },
  {
   "cell_type": "code",
   "execution_count": null,
   "metadata": {},
   "outputs": [
    {
     "data": {
      "text/plain": [
       "1"
      ]
     },
     "execution_count": 43,
     "metadata": {},
     "output_type": "execute_result"
    }
   ],
   "source": [
    "# 按位与，两个位都为1时，结果为1\n",
    "x = 5\n",
    "y = 3\n",
    "x & y"
   ]
  },
  {
   "cell_type": "code",
   "execution_count": 44,
   "metadata": {},
   "outputs": [
    {
     "data": {
      "text/plain": [
       "7"
      ]
     },
     "execution_count": 44,
     "metadata": {},
     "output_type": "execute_result"
    }
   ],
   "source": [
    "# 按位或，两个位都为0时，结果为0\n",
    "x = 5\n",
    "y = 3\n",
    "x | y"
   ]
  },
  {
   "cell_type": "code",
   "execution_count": 45,
   "metadata": {},
   "outputs": [
    {
     "data": {
      "text/plain": [
       "6"
      ]
     },
     "execution_count": 45,
     "metadata": {},
     "output_type": "execute_result"
    }
   ],
   "source": [
    "# 按位异或，两个位不同时，结果为1\n",
    "x = 5\n",
    "y = 3\n",
    "x ^ y"
   ]
  },
  {
   "cell_type": "code",
   "execution_count": 46,
   "metadata": {},
   "outputs": [
    {
     "data": {
      "text/plain": [
       "-6"
      ]
     },
     "execution_count": 46,
     "metadata": {},
     "output_type": "execute_result"
    }
   ],
   "source": [
    "# 按位取反，0变1，1变0\n",
    "x = 5\n",
    "~x"
   ]
  },
  {
   "cell_type": "code",
   "execution_count": 47,
   "metadata": {},
   "outputs": [
    {
     "data": {
      "text/plain": [
       "20"
      ]
     },
     "execution_count": 47,
     "metadata": {},
     "output_type": "execute_result"
    }
   ],
   "source": [
    "# 左移，将二进制数向左移动指定的位数\n",
    "x = 5\n",
    "x << 2"
   ]
  },
  {
   "cell_type": "code",
   "execution_count": 48,
   "metadata": {},
   "outputs": [
    {
     "data": {
      "text/plain": [
       "1"
      ]
     },
     "execution_count": 48,
     "metadata": {},
     "output_type": "execute_result"
    }
   ],
   "source": [
    "# 右移，将二进制数向右移动指定的位数\n",
    "x = 5\n",
    "x >> 2"
   ]
  },
  {
   "cell_type": "markdown",
   "metadata": {},
   "source": [
    "逻辑运算符"
   ]
  },
  {
   "cell_type": "code",
   "execution_count": 49,
   "metadata": {},
   "outputs": [
    {
     "data": {
      "text/plain": [
       "True"
      ]
     },
     "execution_count": 49,
     "metadata": {},
     "output_type": "execute_result"
    }
   ],
   "source": [
    "# 与，两个条件都为真时，结果为真\n",
    "x = True\n",
    "y = True\n",
    "x and y"
   ]
  },
  {
   "cell_type": "code",
   "execution_count": 51,
   "metadata": {},
   "outputs": [
    {
     "data": {
      "text/plain": [
       "True"
      ]
     },
     "execution_count": 51,
     "metadata": {},
     "output_type": "execute_result"
    }
   ],
   "source": [
    "# 或，两个条件中有一个为真时，结果为真\n",
    "x = True\n",
    "y = False\n",
    "x or y"
   ]
  },
  {
   "cell_type": "code",
   "execution_count": 52,
   "metadata": {},
   "outputs": [
    {
     "data": {
      "text/plain": [
       "False"
      ]
     },
     "execution_count": 52,
     "metadata": {},
     "output_type": "execute_result"
    }
   ],
   "source": [
    "# 非，条件为假时，结果为真\n",
    "x = True\n",
    "not x"
   ]
  },
  {
   "cell_type": "markdown",
   "metadata": {},
   "source": [
    "成员运算符"
   ]
  },
  {
   "cell_type": "code",
   "execution_count": 53,
   "metadata": {},
   "outputs": [
    {
     "data": {
      "text/plain": [
       "True"
      ]
     },
     "execution_count": 53,
     "metadata": {},
     "output_type": "execute_result"
    }
   ],
   "source": [
    "# in，判断一个元素是否在一个集合中\n",
    "x = 1\n",
    "y = [1, 2, 3]\n",
    "x in y"
   ]
  },
  {
   "cell_type": "code",
   "execution_count": 54,
   "metadata": {},
   "outputs": [
    {
     "data": {
      "text/plain": [
       "False"
      ]
     },
     "execution_count": 54,
     "metadata": {},
     "output_type": "execute_result"
    }
   ],
   "source": [
    "# not in，判断一个元素是否不在一个集合中\n",
    "x = 1\n",
    "y = [1, 2, 3]\n",
    "x not in y"
   ]
  },
  {
   "cell_type": "markdown",
   "metadata": {},
   "source": [
    "身份运算符"
   ]
  },
  {
   "cell_type": "code",
   "execution_count": 55,
   "metadata": {},
   "outputs": [
    {
     "data": {
      "text/plain": [
       "True"
      ]
     },
     "execution_count": 55,
     "metadata": {},
     "output_type": "execute_result"
    }
   ],
   "source": [
    "# is，判断两个变量是否指向同一个对象\n",
    "x = 1\n",
    "y = 1\n",
    "x is y"
   ]
  },
  {
   "cell_type": "code",
   "execution_count": 56,
   "metadata": {},
   "outputs": [
    {
     "data": {
      "text/plain": [
       "True"
      ]
     },
     "execution_count": 56,
     "metadata": {},
     "output_type": "execute_result"
    }
   ],
   "source": [
    "# is not，判断两个变量是否不指向同一个对象\n",
    "x = 1\n",
    "y = 2\n",
    "x is not y"
   ]
  },
  {
   "cell_type": "markdown",
   "metadata": {},
   "source": [
    "#### 9. 如何在字符串中嵌入一个单引号\n",
    "嵌入引号有两种方法。\n",
    "1. 使用双引号包裹字符串，并在字符串内部使用单引号。\n",
    "2. 使用转义字符\\来表示单引号。"
   ]
  },
  {
   "cell_type": "code",
   "execution_count": 57,
   "metadata": {},
   "outputs": [
    {
     "data": {
      "text/plain": [
       "(\"I'm a student.\", \"I'm a student.\")"
      ]
     },
     "execution_count": 57,
     "metadata": {},
     "output_type": "execute_result"
    }
   ],
   "source": [
    "s1 = \"I'm a student.\"\n",
    "s2 = 'I\\'m a student.'\n",
    "s1, s2"
   ]
  },
  {
   "cell_type": "markdown",
   "metadata": {},
   "source": [
    "## 1.4 程序结构\n",
    "- 顺序结构\n",
    "- 判断结构\n",
    "- 循环结构\n"
   ]
  },
  {
   "cell_type": "markdown",
   "metadata": {},
   "source": [
    "顺序结构\n",
    "- 直接按行顺序执行代码，直到程序结束"
   ]
  },
  {
   "cell_type": "code",
   "execution_count": 58,
   "metadata": {},
   "outputs": [
    {
     "data": {
      "text/plain": [
       "3"
      ]
     },
     "execution_count": 58,
     "metadata": {},
     "output_type": "execute_result"
    }
   ],
   "source": [
    "a = 1\n",
    "b = 2\n",
    "c = a + b\n",
    "c"
   ]
  },
  {
   "cell_type": "markdown",
   "metadata": {},
   "source": [
    "判断结构\n",
    "- 增加了判断机制"
   ]
  },
  {
   "cell_type": "code",
   "execution_count": 64,
   "metadata": {},
   "outputs": [],
   "source": [
    "score = 60\n",
    "if score >= 90:\n",
    "    print(\"A\")"
   ]
  },
  {
   "cell_type": "code",
   "execution_count": 65,
   "metadata": {},
   "outputs": [
    {
     "name": "stdout",
     "output_type": "stream",
     "text": [
      "B\n"
     ]
    }
   ],
   "source": [
    "score = 80\n",
    "if score >= 90:\n",
    "    print(\"A\")\n",
    "else:\n",
    "    print(\"B\")"
   ]
  },
  {
   "cell_type": "code",
   "execution_count": 59,
   "metadata": {},
   "outputs": [
    {
     "name": "stdout",
     "output_type": "stream",
     "text": [
      "A\n"
     ]
    }
   ],
   "source": [
    "score = 90\n",
    "if score >= 90:\n",
    "    print(\"A\")\n",
    "elif score >= 80:\n",
    "    print(\"B\")\n",
    "elif score >= 70:\n",
    "    print(\"C\")\n",
    "elif score >= 60:\n",
    "    print(\"D\")\n",
    "else:\n",
    "    print(\"E\")  "
   ]
  },
  {
   "cell_type": "markdown",
   "metadata": {},
   "source": [
    "循环结构"
   ]
  },
  {
   "cell_type": "code",
   "execution_count": 61,
   "metadata": {},
   "outputs": [
    {
     "data": {
      "text/plain": [
       "4"
      ]
     },
     "execution_count": 61,
     "metadata": {},
     "output_type": "execute_result"
    }
   ],
   "source": [
    "# while循环\n",
    "i = 1\n",
    "num = 0\n",
    "while i < 5:\n",
    "    num += 1\n",
    "    i += 1\n",
    "num"
   ]
  },
  {
   "cell_type": "code",
   "execution_count": 62,
   "metadata": {},
   "outputs": [
    {
     "data": {
      "text/plain": [
       "5"
      ]
     },
     "execution_count": 62,
     "metadata": {},
     "output_type": "execute_result"
    }
   ],
   "source": [
    "# for循环\n",
    "num = 0\n",
    "for i in range(5):\n",
    "    num += 1\n",
    "num"
   ]
  },
  {
   "cell_type": "markdown",
   "metadata": {},
   "source": [
    "## 1.5 异常值处理\n",
    "- 在Python中，程序在正常执行过程中可能会出现一些异常情况，如语法错误、除零错误、未定义的变量取值等，希望程序能够帮助我们监控和捕捉到形影的错误。\n",
    "- Python提供了异常值处理try语句，其完整的形式为try/except/else/finally"
   ]
  },
  {
   "cell_type": "code",
   "execution_count": null,
   "metadata": {},
   "outputs": [],
   "source": [
    "try:\n",
    "    Normal execution block\n",
    "except A:\n",
    "    Exception A handle\n",
    "except B:\n",
    "    Exception B handle\n",
    "except:\n",
    "    Other exception handle\n",
    "else:\n",
    "    if no exception, get here\n",
    "finally:\n",
    "    print(\"finally\")"
   ]
  },
  {
   "cell_type": "markdown",
   "metadata": {},
   "source": [
    "### 1. try-except\n",
    "```\n",
    "try:\n",
    "    处理代码\n",
    "except Exception as e:\n",
    "    处理代码发生异常，在这里进行异常处理\n",
    "```"
   ]
  },
  {
   "cell_type": "code",
   "execution_count": 63,
   "metadata": {},
   "outputs": [
    {
     "name": "stdout",
     "output_type": "stream",
     "text": [
      "代码出现除0异常，这里进行处理！\n",
      "我还在运行\n"
     ]
    }
   ],
   "source": [
    "try:\n",
    "    print(1 / 0)\n",
    "except Exception as e:\n",
    "    print('代码出现除0异常，这里进行处理！')\n",
    "print(\"我还在运行\")\n"
   ]
  },
  {
   "cell_type": "markdown",
   "metadata": {},
   "source": [
    "上述捕获到异常发生，输出错误信息，然后继续执行后续代码。"
   ]
  },
  {
   "cell_type": "markdown",
   "metadata": {},
   "source": [
    "### 2. try-except-finally\n",
    "无论是否发生异常，必须执行相应的操作"
   ]
  },
  {
   "cell_type": "code",
   "execution_count": 66,
   "metadata": {},
   "outputs": [
    {
     "name": "stdout",
     "output_type": "stream",
     "text": [
      "代码出现除0异常，这里进行处理！\n",
      "无论是否发生异常，这里都会执行！\n"
     ]
    }
   ],
   "source": [
    "try:\n",
    "    print(1 / 0)\n",
    "except Exception as e:\n",
    "    print('代码出现除0异常，这里进行处理！')\n",
    "finally:\n",
    "    print('无论是否发生异常，这里都会执行！')"
   ]
  },
  {
   "cell_type": "code",
   "execution_count": 67,
   "metadata": {},
   "outputs": [
    {
     "name": "stdout",
     "output_type": "stream",
     "text": [
      "hello\n",
      "无论是否发生异常，这里都会执行！\n"
     ]
    }
   ],
   "source": [
    "try:\n",
    "    print(\"hello\")\n",
    "except Exception as e:\n",
    "    print('出现异常')\n",
    "finally:\n",
    "    print('无论是否发生异常，这里都会执行！')"
   ]
  },
  {
   "cell_type": "markdown",
   "metadata": {},
   "source": [
    "### 3. try-except-else\n",
    "如果try语句块发生异常，则进入except语句块，否则进入else语句块"
   ]
  },
  {
   "cell_type": "code",
   "execution_count": 68,
   "metadata": {},
   "outputs": [
    {
     "name": "stdout",
     "output_type": "stream",
     "text": [
      "正常代码！\n",
      "没有异常，进入else语句块\n"
     ]
    }
   ],
   "source": [
    "try:\n",
    "    print(\"正常代码！\")\n",
    "except Exception as e:\n",
    "    print('出现异常')\n",
    "else:\n",
    "    print('没有异常，进入else语句块')"
   ]
  },
  {
   "cell_type": "code",
   "execution_count": 69,
   "metadata": {},
   "outputs": [
    {
     "name": "stdout",
     "output_type": "stream",
     "text": [
      "出现异常\n"
     ]
    }
   ],
   "source": [
    "try:\n",
    "    print(1 / 0)\n",
    "except Exception as e:\n",
    "    print('出现异常')\n",
    "else:\n",
    "    print('没有异常，进入else语句块')"
   ]
  },
  {
   "cell_type": "markdown",
   "metadata": {},
   "source": [
    "### 4. try-except-else-finally\n",
    "finally语句块无论是否发生异常都会执行"
   ]
  },
  {
   "cell_type": "code",
   "execution_count": 70,
   "metadata": {},
   "outputs": [
    {
     "name": "stdout",
     "output_type": "stream",
     "text": [
      "正常代码！\n",
      "没有异常，进入else语句块\n",
      "无论是否发生异常，这里都会执行！\n"
     ]
    }
   ],
   "source": [
    "try:\n",
    "    print(\"正常代码！\")\n",
    "except Exception as e:\n",
    "    print('出现异常')\n",
    "else:\n",
    "    print('没有异常，进入else语句块')\n",
    "finally:\n",
    "    print('无论是否发生异常，这里都会执行！')"
   ]
  },
  {
   "cell_type": "code",
   "execution_count": 71,
   "metadata": {},
   "outputs": [
    {
     "name": "stdout",
     "output_type": "stream",
     "text": [
      "出现异常\n",
      "无论是否发生异常，这里都会执行！\n"
     ]
    }
   ],
   "source": [
    "try:\n",
    "    print(1 / 0)\n",
    "except Exception as e:\n",
    "    print('出现异常')\n",
    "else:\n",
    "    print('没有异常，进入else语句块')\n",
    "finally:\n",
    "    print('无论是否发生异常，这里都会执行！')"
   ]
  },
  {
   "cell_type": "markdown",
   "metadata": {},
   "source": [
    "注意：\n",
    "1. 异常处理的出现顺序：try -> except x -> except -> else -> finally\n",
    "2. else和finally语句块是可选的，finally如果需要，必须放在最后\n",
    "3. else存在必须以except x或者except语句为前提，如果没有except语句，则else语句会发生语法错误"
   ]
  },
  {
   "cell_type": "markdown",
   "metadata": {},
   "source": [
    "## 1.6 实战体验：一行代码能干啥"
   ]
  },
  {
   "cell_type": "markdown",
   "metadata": {},
   "source": [
    "1. Python之一行代码"
   ]
  },
  {
   "cell_type": "code",
   "execution_count": null,
   "metadata": {},
   "outputs": [
    {
     "name": "stdout",
     "output_type": "stream",
     "text": [
      "The Zen of Python, by Tim Peters\n",
      "\n",
      "Beautiful is better than ugly.\n",
      "Explicit is better than implicit.\n",
      "Simple is better than complex.\n",
      "Complex is better than complicated.\n",
      "Flat is better than nested.\n",
      "Sparse is better than dense.\n",
      "Readability counts.\n",
      "Special cases aren't special enough to break the rules.\n",
      "Although practicality beats purity.\n",
      "Errors should never pass silently.\n",
      "Unless explicitly silenced.\n",
      "In the face of ambiguity, refuse the temptation to guess.\n",
      "There should be one-- and preferably only one --obvious way to do it.\n",
      "Although that way may not be obvious at first unless you're Dutch.\n",
      "Now is better than never.\n",
      "Although never is often better than *right* now.\n",
      "If the implementation is hard to explain, it's a bad idea.\n",
      "If the implementation is easy to explain, it may be a good idea.\n",
      "Namespaces are one honking great idea -- let's do more of those!\n"
     ]
    }
   ],
   "source": [
    "import this\n",
    "\"\"\"\n",
    "这个模块包含了一个名为 zen.py 的文件，\n",
    "该文件包含了由 Tim Peters 编写的\n",
    "《Python之禅》（The Zen of Python）。\n",
    "《Python之禅》是一组关于 Python 编程\n",
    "哲学的指导原则，旨在帮助开发者编写清晰、\n",
    "简洁和高效的代码。\n",
    "\"\"\""
   ]
  },
  {
   "cell_type": "markdown",
   "metadata": {},
   "source": [
    "2. 九九乘法口诀表"
   ]
  },
  {
   "cell_type": "code",
   "execution_count": 74,
   "metadata": {},
   "outputs": [
    {
     "name": "stdout",
     "output_type": "stream",
     "text": [
      "1*1=1\n",
      "2*1=2 2*2=4\n",
      "3*1=3 3*2=6 3*3=9\n",
      "4*1=4 4*2=8 4*3=12 4*4=16\n",
      "5*1=5 5*2=10 5*3=15 5*4=20 5*5=25\n",
      "6*1=6 6*2=12 6*3=18 6*4=24 6*5=30 6*6=36\n",
      "7*1=7 7*2=14 7*3=21 7*4=28 7*5=35 7*6=42 7*7=49\n",
      "8*1=8 8*2=16 8*3=24 8*4=32 8*5=40 8*6=48 8*7=56 8*8=64\n",
      "9*1=9 9*2=18 9*3=27 9*4=36 9*5=45 9*6=54 9*7=63 9*8=72 9*9=81\n"
     ]
    }
   ],
   "source": [
    "print('\\n'.join([' '.join(['%s*%s=%s' % (i, j, i*j) for j in range(1, i+1)]) for i in range(1, 10)]))"
   ]
  },
  {
   "cell_type": "markdown",
   "metadata": {},
   "source": [
    "3. 打印心形图案（Love可以修改为自己想要的字符）"
   ]
  },
  {
   "cell_type": "code",
   "execution_count": 75,
   "metadata": {},
   "outputs": [
    {
     "name": "stdout",
     "output_type": "stream",
     "text": [
      "                                                            \n",
      "                                                            \n",
      "                                                            \n",
      "                veLoveLov           veLoveLov               \n",
      "            eLoveLoveLoveLove   eLoveLoveLoveLove           \n",
      "          veLoveLoveLoveLoveLoveLoveLoveLoveLoveLov         \n",
      "         veLoveLoveLoveLoveLoveLoveLoveLoveLoveLoveL        \n",
      "        veLoveLoveLoveLoveLoveLoveLoveLoveLoveLoveLov       \n",
      "        eLoveLoveLoveLoveLoveLoveLoveLoveLoveLoveLove       \n",
      "        LoveLoveLoveLoveLoveLoveLoveLoveLoveLoveLoveL       \n",
      "        oveLoveLoveLoveLoveLoveLoveLoveLoveLoveLoveLo       \n",
      "        veLoveLoveLoveLoveLoveLoveLoveLoveLoveLoveLov       \n",
      "        eLoveLoveLoveLoveLoveLoveLoveLoveLoveLoveLove       \n",
      "         oveLoveLoveLoveLoveLoveLoveLoveLoveLoveLove        \n",
      "          eLoveLoveLoveLoveLoveLoveLoveLoveLoveLove         \n",
      "          LoveLoveLoveLoveLoveLoveLoveLoveLoveLoveL         \n",
      "            eLoveLoveLoveLoveLoveLoveLoveLoveLove           \n",
      "             oveLoveLoveLoveLoveLoveLoveLoveLove            \n",
      "              eLoveLoveLoveLoveLoveLoveLoveLove             \n",
      "                veLoveLoveLoveLoveLoveLoveLov               \n",
      "                  oveLoveLoveLoveLoveLoveLo                 \n",
      "                    LoveLoveLoveLoveLoveL                   \n",
      "                       LoveLoveLoveLov                      \n",
      "                          LoveLoveL                         \n",
      "                             Lov                            \n",
      "                              v                             \n",
      "                                                            \n",
      "                                                            \n",
      "                                                            \n",
      "                                                            \n"
     ]
    }
   ],
   "source": [
    "print('\\n'.join([''.join([('Love'[(x-y)%4] if ((x*0.05)**2+(y*0.1)**2-1)**3-(x*0.05)**2*(y*0.1)**3 <= 0 else ' ') for x in range(-30, 30)]) for y in range(15, -15, -1)]))"
   ]
  },
  {
   "cell_type": "markdown",
   "metadata": {},
   "source": [
    "4. 一行代码实现求解2的1000次方的个位数字之和"
   ]
  },
  {
   "cell_type": "code",
   "execution_count": 76,
   "metadata": {},
   "outputs": [
    {
     "name": "stdout",
     "output_type": "stream",
     "text": [
      "1366\n"
     ]
    }
   ],
   "source": [
    "print(sum(map(int, str(2**1000))))"
   ]
  },
  {
   "cell_type": "markdown",
   "metadata": {},
   "source": [
    "5. 一行代码实现变量值互换"
   ]
  },
  {
   "cell_type": "code",
   "execution_count": 77,
   "metadata": {},
   "outputs": [
    {
     "name": "stdout",
     "output_type": "stream",
     "text": [
      "a= 2 b= 1\n"
     ]
    }
   ],
   "source": [
    "a, b = 1, 2\n",
    "a, b = b, a\n",
    "print(\"a=\", a, \"b=\", b)"
   ]
  }
 ],
 "metadata": {
  "kernelspec": {
   "display_name": "base",
   "language": "python",
   "name": "python3"
  },
  "language_info": {
   "codemirror_mode": {
    "name": "ipython",
    "version": 3
   },
   "file_extension": ".py",
   "mimetype": "text/x-python",
   "name": "python",
   "nbconvert_exporter": "python",
   "pygments_lexer": "ipython3",
   "version": "3.9.12"
  }
 },
 "nbformat": 4,
 "nbformat_minor": 2
}
