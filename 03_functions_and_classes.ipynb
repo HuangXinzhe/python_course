{
 "cells": [
  {
   "cell_type": "markdown",
   "metadata": {},
   "source": [
    "# 第三章 函数和类\n",
    "函数在数学中可以解释为，凡是公式中包含未知数（变量）x的式子都叫作函数，即通过给x赋不同的结果。在计算机语言中的函数类似，就是为了编写程序的方便，把具有相同功能的底阿妈写成一个函数，以便于重复利用。例如，常用的计算器上有加法和减法，更高级的计算器上会有积分运算，只要你输入数值，它就会给出结果，其实计算器里面已经编辑好了各种远算的代码，输入相应变量值，就会给出对应的结果。"
   ]
  },
  {
   "cell_type": "markdown",
   "metadata": {},
   "source": [
    "## 3.1 函数\n",
    "- 函数是一种程序结构，大多数程序语言都允许使用者定义并使用函数。\n",
    "- Python中自带了一些函数，像print()、input()、range()等都是函数。\n",
    "- 数学上我们定义一个函数：$f(x, y) = x^2 + y^2$，在Python中，定义一个函数需要通过def关键字来声明"
   ]
  },
  {
   "cell_type": "markdown",
   "metadata": {},
   "source": [
    "### 3.1.1 函数结构\n",
    "函数有固定的格式，它是通过关键字def来声明的，其结构如下。\n",
    "```\n",
    "def 函数名(参数):\n",
    "    函数题\n",
    "    return 返回值\n",
    "```\n",
    "例如，对于数学函数$f(x, y) = x^2 + y^2$，利用Python语言定义如下。"
   ]
  },
  {
   "cell_type": "code",
   "execution_count": 1,
   "metadata": {},
   "outputs": [
    {
     "name": "stdout",
     "output_type": "stream",
     "text": [
      "5\n"
     ]
    }
   ],
   "source": [
    "def f(x, y):\n",
    "    z = x**2 + y**2\n",
    "    return z\n",
    "\n",
    "res = f(1, 2)\n",
    "print(res)"
   ]
  },
  {
   "cell_type": "markdown",
   "metadata": {},
   "source": [
    "在函数中，一般还需要有一个函数说明文档，放在函数的def声明行和函数体之间。文档中主要描述函数的功用以及参数的用法等，便于函数的使用者调用help()函数对函数进行查询。\n",
    "\n",
    "用help()函数查到的帮助文档都是放在函数文档中的。\n",
    "\n",
    "函数文档使用三引号引起来放在函数头和函数体之间。其结构如下。\n",
    "```\n",
    "def 函数名(参数):\n",
    "    \"\"\"函数文档\"\"\"\n",
    "    return 返回值\n",
    "```"
   ]
  },
  {
   "cell_type": "code",
   "execution_count": 3,
   "metadata": {},
   "outputs": [],
   "source": [
    "def f(x, y):\n",
    "    \"\"\"\n",
    "    本函数主要是计算z = x**2 + y**2的值\n",
    "    函数需要接收两个参数：x和y\n",
    "    \"\"\"\n",
    "    z = x**2 + y**2\n",
    "    return z"
   ]
  },
  {
   "cell_type": "code",
   "execution_count": 4,
   "metadata": {},
   "outputs": [
    {
     "name": "stdout",
     "output_type": "stream",
     "text": [
      "Help on function f in module __main__:\n",
      "\n",
      "f(x, y)\n",
      "    本函数主要是计算z = x**2 + y**2的值\n",
      "    函数需要接收两个参数：x和y\n",
      "\n"
     ]
    }
   ],
   "source": [
    "help(f)"
   ]
  },
  {
   "cell_type": "code",
   "execution_count": 5,
   "metadata": {},
   "outputs": [
    {
     "data": {
      "text/plain": [
       "13"
      ]
     },
     "execution_count": 5,
     "metadata": {},
     "output_type": "execute_result"
    }
   ],
   "source": [
    "f(2, 3)"
   ]
  },
  {
   "cell_type": "markdown",
   "metadata": {},
   "source": [
    "注意：\n",
    "- dir()函数可以查看指定模块中所包含的成员或者指定对象类型所支持的操作（某函数具有哪些方法和属性）\n",
    "- help()函数则返回指定模块或函数的说明文档。（具体使用方法）"
   ]
  },
  {
   "cell_type": "code",
   "execution_count": 9,
   "metadata": {},
   "outputs": [
    {
     "data": {
      "text/plain": [
       "['__call__',\n",
       " '__class__',\n",
       " '__delattr__',\n",
       " '__dir__',\n",
       " '__doc__',\n",
       " '__eq__',\n",
       " '__format__',\n",
       " '__ge__',\n",
       " '__getattribute__',\n",
       " '__gt__',\n",
       " '__hash__',\n",
       " '__init__',\n",
       " '__init_subclass__',\n",
       " '__le__',\n",
       " '__lt__',\n",
       " '__module__',\n",
       " '__name__',\n",
       " '__ne__',\n",
       " '__new__',\n",
       " '__qualname__',\n",
       " '__reduce__',\n",
       " '__reduce_ex__',\n",
       " '__repr__',\n",
       " '__self__',\n",
       " '__setattr__',\n",
       " '__sizeof__',\n",
       " '__str__',\n",
       " '__subclasshook__',\n",
       " '__text_signature__']"
      ]
     },
     "execution_count": 9,
     "metadata": {},
     "output_type": "execute_result"
    }
   ],
   "source": [
    "dir(print)"
   ]
  },
  {
   "cell_type": "code",
   "execution_count": 8,
   "metadata": {},
   "outputs": [
    {
     "name": "stdout",
     "output_type": "stream",
     "text": [
      "Help on built-in function print in module builtins:\n",
      "\n",
      "print(...)\n",
      "    print(value, ..., sep=' ', end='\\n', file=sys.stdout, flush=False)\n",
      "    \n",
      "    Prints the values to a stream, or to sys.stdout by default.\n",
      "    Optional keyword arguments:\n",
      "    file:  a file-like object (stream); defaults to the current sys.stdout.\n",
      "    sep:   string inserted between values, default a space.\n",
      "    end:   string appended after the last value, default a newline.\n",
      "    flush: whether to forcibly flush the stream.\n",
      "\n"
     ]
    }
   ],
   "source": [
    "# 查询print()函数的使用方法\n",
    "help(print)"
   ]
  },
  {
   "cell_type": "markdown",
   "metadata": {},
   "source": [
    "### 3.1.2 参数结构\n",
    "函数的参数分为形参和实参。形参即形式参数，在使用def定义函数时，函数名后面括号里的变量称作形式参数。在使用def定义函数时，函数名后面括号里的变量称作形式参数。在调用函数时提供的值或者变量称作实际参数，实际参数简称为实参。  \n",
    "\n",
    "形参和实参如下：\n",
    "```\n",
    "# 这里的a和b是形参\n",
    "def f(a, b):\n",
    "    return a + b\n",
    "\n",
    "# 这里的1和2是实参\n",
    "add(1, 2)\n",
    "\n",
    "# 这里的x和y是实参\n",
    "x = 2\n",
    "y = 3\n",
    "add(x, y)\n",
    "```\n",
    "函数时可以传递参数的，当然也可以不传递参数。例如：\n",
    "```\n",
    "def func():\n",
    "    print(\"这是无参传递\")\n",
    "```\n",
    "调用func()函数会打印出”这是无参传递“字符串。\n",
    "同样，函数可以有返回值，也可以没有返回值。  \n",
    "\n",
    "Python中函数传递参数有以下4种形式。\n",
    "```\n",
    "fun1(a, b, c)  # 固定参数\n",
    "fun2(a=1, b=2, c=3)  # 带有默认参数\n",
    "fun3(*args)  # 未知参数个数\n",
    "fun4(**kwargs)  # 带键参数\n",
    "```\n",
    "最常见是前两种fun1和fun2形式，后两种fun3和fun4形式一般很少单独出现，常用在混合模式中。"
   ]
  },
  {
   "cell_type": "code",
   "execution_count": 10,
   "metadata": {},
   "outputs": [],
   "source": [
    "\"\"\"\n",
    "第一种fun1(a, b, c)，直接将实参赋给形参，\n",
    "根据位置坐匹配，即严格要求实参的数量与形参的数量以及位置均相同。\n",
    "\"\"\"\n",
    "def func(x, y, z):\n",
    "    print(x, y, z)"
   ]
  },
  {
   "cell_type": "code",
   "execution_count": null,
   "metadata": {},
   "outputs": [
    {
     "name": "stdout",
     "output_type": "stream",
     "text": [
      "yubg 30 男\n"
     ]
    }
   ],
   "source": [
    "func('yubg', 30, '男')"
   ]
  },
  {
   "cell_type": "markdown",
   "metadata": {},
   "source": [
    "这里func()函数必须输入3个参数值，否则报错，并且它们的位置对应着x、y、z，也就是说，第一个输入的参数赋值给x，第二个输入的参数赋值给y，第三个输入的参数赋值给z。"
   ]
  },
  {
   "cell_type": "code",
   "execution_count": 12,
   "metadata": {},
   "outputs": [],
   "source": [
    "\"\"\"\n",
    "第二种fun2(a=1, b=2, c=3)，根据键\n",
    "值对的形式做实参与形参的匹配，通过\n",
    "这种形式直接根据关键字进行赋值，同\n",
    "时这种传参方式还有个好处，可以在调\n",
    "用函数时不要求输入参数数量上的相等，\n",
    "即可以用fun2(3, 4)来调用fun2()函\n",
    "数，这里的实参3、实参4覆盖了原来\n",
    "a、b两个形参的值，但c还是采用原来\n",
    "的默认值3，即fun2(3, 4)与fun2(3, 4, 3)\n",
    "是等价的。这种方式相比第一种方式更\n",
    "加灵活。还可以通过fun2(c=5, a=2, b=7)\n",
    "来打乱形参的位置\n",
    "\"\"\"\n",
    "\n",
    "def func(x=1, y=2):\n",
    "    print(x, y)"
   ]
  },
  {
   "cell_type": "code",
   "execution_count": 13,
   "metadata": {},
   "outputs": [
    {
     "name": "stdout",
     "output_type": "stream",
     "text": [
      "1 2\n"
     ]
    }
   ],
   "source": [
    "func()"
   ]
  },
  {
   "cell_type": "code",
   "execution_count": null,
   "metadata": {},
   "outputs": [
    {
     "name": "stdout",
     "output_type": "stream",
     "text": [
      "1 2\n"
     ]
    }
   ],
   "source": [
    "func(1)  # 此处实参1覆盖了形参x的默认值1"
   ]
  },
  {
   "cell_type": "code",
   "execution_count": 15,
   "metadata": {},
   "outputs": [
    {
     "name": "stdout",
     "output_type": "stream",
     "text": [
      "1 2\n"
     ]
    }
   ],
   "source": [
    "func(1, 2)  # 此处实参1覆盖了形参x的默认值1，实参2覆盖了形参y的默认值2"
   ]
  },
  {
   "cell_type": "code",
   "execution_count": null,
   "metadata": {},
   "outputs": [],
   "source": [
    "func(y=2, x=1)  # 此处实参2覆盖了形参y的默认值2，实参1覆盖了形参x的默认值1"
   ]
  },
  {
   "cell_type": "code",
   "execution_count": 16,
   "metadata": {},
   "outputs": [
    {
     "name": "stdout",
     "output_type": "stream",
     "text": [
      "1 2\n"
     ]
    }
   ],
   "source": [
    "func(y=2)  # 此处实参2覆盖了形参y的默认值2，形参x的值采用默认值1"
   ]
  },
  {
   "cell_type": "code",
   "execution_count": 17,
   "metadata": {},
   "outputs": [
    {
     "ename": "TypeError",
     "evalue": "func() got multiple values for argument 'x'",
     "output_type": "error",
     "traceback": [
      "\u001b[0;31m---------------------------------------------------------------------------\u001b[0m",
      "\u001b[0;31mTypeError\u001b[0m                                 Traceback (most recent call last)",
      "Cell \u001b[0;32mIn[17], line 1\u001b[0m\n\u001b[0;32m----> 1\u001b[0m \u001b[43mfunc\u001b[49m\u001b[43m(\u001b[49m\u001b[38;5;241;43m2\u001b[39;49m\u001b[43m,\u001b[49m\u001b[43m \u001b[49m\u001b[43mx\u001b[49m\u001b[38;5;241;43m=\u001b[39;49m\u001b[38;5;241;43m1\u001b[39;49m\u001b[43m)\u001b[49m\n",
      "\u001b[0;31mTypeError\u001b[0m: func() got multiple values for argument 'x'"
     ]
    }
   ],
   "source": [
    "func(2, x=1)  # 这种赋值方法是不可以的，忽略位置时必须是对形参赋值的形式"
   ]
  },
  {
   "cell_type": "code",
   "execution_count": 18,
   "metadata": {},
   "outputs": [],
   "source": [
    "\"\"\"\n",
    "第三种fun3(*args)，可以传入任意个\n",
    "参数，这些参数被放到tuple元组中赋\n",
    "值给形参args，之后要在函数中使用这\n",
    "些形参，直接操作args这个tuple元组\n",
    "就可以了，这样的好处是在参数的数量上\n",
    "没有了限制，由于tuple本身还是有次序\n",
    "的，这就仍然存在一定的束缚，对参数操\n",
    "作上也会有一些不便。\n",
    "\"\"\"\n",
    "def func(name, *args):\n",
    "    print(name+\" 有以下雅称：\")\n",
    "    for i in args:\n",
    "        print(i)"
   ]
  },
  {
   "cell_type": "code",
   "execution_count": 19,
   "metadata": {},
   "outputs": [
    {
     "name": "stdout",
     "output_type": "stream",
     "text": [
      "孙赵钱 有以下雅称：\n",
      "孙猴子\n",
      "二毛\n",
      "孙学霸\n"
     ]
    }
   ],
   "source": [
    "func('孙赵钱', '孙猴子', '二毛', '孙学霸')"
   ]
  },
  {
   "cell_type": "code",
   "execution_count": 20,
   "metadata": {},
   "outputs": [],
   "source": [
    "\"\"\"\n",
    "第四种fun4(**kargs)，最为灵活，以\n",
    "键值对字典的形式向函数传入参数，既有\n",
    "第二种方式在位置上的灵活，同时还具有\n",
    "第三种方式在数量上的无限制。此外第三\n",
    "种和第四种以函数声明的方式在参数前面\n",
    "加'*'做声明标识。 \n",
    "\n",
    "大多数情况是这4种传递方式混合使用的，\n",
    "如fun0(a, b, *c, **d)。\n",
    "\"\"\"\n",
    "\n",
    "def test(x, y=5, *a, **b):\n",
    "    print(x, y, a, b)"
   ]
  },
  {
   "cell_type": "code",
   "execution_count": null,
   "metadata": {},
   "outputs": [
    {
     "name": "stdout",
     "output_type": "stream",
     "text": [
      "1 5 () {}\n"
     ]
    }
   ],
   "source": [
    "test(1)  # 1赋值给x，y采用默认值5，a为空tuple，b为空字典"
   ]
  },
  {
   "cell_type": "code",
   "execution_count": 22,
   "metadata": {},
   "outputs": [
    {
     "name": "stdout",
     "output_type": "stream",
     "text": [
      "1 2 () {}\n"
     ]
    }
   ],
   "source": [
    "test(1, 2)  # 1赋值给x，2赋值给y，a为空tuple，b为空字典"
   ]
  },
  {
   "cell_type": "code",
   "execution_count": 23,
   "metadata": {},
   "outputs": [
    {
     "name": "stdout",
     "output_type": "stream",
     "text": [
      "1 2 (3,) {}\n"
     ]
    }
   ],
   "source": [
    "test(1, 2, 3)  # 1赋值给x，2赋值给y，3赋值给a这个tuple，b为空字典"
   ]
  },
  {
   "cell_type": "code",
   "execution_count": null,
   "metadata": {},
   "outputs": [
    {
     "name": "stdout",
     "output_type": "stream",
     "text": [
      "1 2 (3, 4) {}\n"
     ]
    }
   ],
   "source": [
    "test(1, 2, 3, 4)  # 1赋值给x，2赋值给y，3、4赋值给a这个tuple"
   ]
  },
  {
   "cell_type": "code",
   "execution_count": null,
   "metadata": {},
   "outputs": [
    {
     "name": "stdout",
     "output_type": "stream",
     "text": [
      "1 5 () {}\n"
     ]
    }
   ],
   "source": [
    "test(x=1)  # 1赋值给x，y采用默认值5，a为空tuple，b为空字典"
   ]
  },
  {
   "cell_type": "code",
   "execution_count": 26,
   "metadata": {},
   "outputs": [
    {
     "name": "stdout",
     "output_type": "stream",
     "text": [
      "1 2 () {}\n"
     ]
    }
   ],
   "source": [
    "test(x=1, y=2)  # 1赋值给x，2赋值给y，a为空tuple，b为空字典"
   ]
  },
  {
   "cell_type": "code",
   "execution_count": null,
   "metadata": {},
   "outputs": [
    {
     "name": "stdout",
     "output_type": "stream",
     "text": [
      "1 2 (3, 4) {'a': 1}\n"
     ]
    }
   ],
   "source": [
    "test(1, 2, 3, 4, a=1)  # 1赋值给x，2赋值给y，3、4赋值给a这个tuple，b为{'a':1}"
   ]
  },
  {
   "cell_type": "code",
   "execution_count": null,
   "metadata": {},
   "outputs": [
    {
     "ename": "SyntaxError",
     "evalue": "positional argument follows keyword argument (2764942846.py, line 1)",
     "output_type": "error",
     "traceback": [
      "\u001b[0;36m  Cell \u001b[0;32mIn[28], line 1\u001b[0;36m\u001b[0m\n\u001b[0;31m    test(y=2, x=1,3,4,a=1)\u001b[0m\n\u001b[0m                         ^\u001b[0m\n\u001b[0;31mSyntaxError\u001b[0m\u001b[0;31m:\u001b[0m positional argument follows keyword argument\n"
     ]
    }
   ],
   "source": [
    "test(y=2, x=1, 3, 4, a=1)  # 此处出现了问题，位置参数必须在关键字参数之前"
   ]
  },
  {
   "cell_type": "code",
   "execution_count": 29,
   "metadata": {},
   "outputs": [
    {
     "ename": "SyntaxError",
     "evalue": "positional argument follows keyword argument (4095603104.py, line 1)",
     "output_type": "error",
     "traceback": [
      "\u001b[0;36m  Cell \u001b[0;32mIn[29], line 1\u001b[0;36m\u001b[0m\n\u001b[0;31m    test(2, x=1, 3, 4, a=1)\u001b[0m\n\u001b[0m                          ^\u001b[0m\n\u001b[0;31mSyntaxError\u001b[0m\u001b[0;31m:\u001b[0m positional argument follows keyword argument\n"
     ]
    }
   ],
   "source": [
    "test(2, x=1, 3, 4, a=1)"
   ]
  },
  {
   "cell_type": "code",
   "execution_count": 30,
   "metadata": {},
   "outputs": [
    {
     "name": "stdout",
     "output_type": "stream",
     "text": [
      "1 2 (3, 4) {'k': 1, 't': 2, 'o': 3}\n"
     ]
    }
   ],
   "source": [
    "test(1, 2, 3, 4, k=1, t=2, o=3)  # 1赋值给x，2赋值给y，3、4赋值给a这个tuple，b为{'k':1, 't':2, 'o':3}"
   ]
  },
  {
   "cell_type": "markdown",
   "metadata": {},
   "source": [
    "### 3.1.3 函数的递归与嵌套\n",
    "1. 递归\n",
    "- 函数的递归是指函数在函数体中直接或间接调用自身的现象。\n",
    "- 递归要有停止条件，否则函数将永远无法跳出递归，造成死循环。"
   ]
  },
  {
   "attachments": {
    "image.png": {
     "image/png": "[encoded data removed]"
    }
   },
   "cell_type": "markdown",
   "metadata": {},
   "source": [
    "用递归写一个经典的斐波那契数列，斐波那契数列的每一项等于它前面两项的和  \n",
    "![image.png](attachment:image.png)"
   ]
  },
  {
   "cell_type": "code",
   "execution_count": 38,
   "metadata": {},
   "outputs": [],
   "source": [
    "def fib(n):\n",
    "    if n <= 2:\n",
    "        return 1\n",
    "    else:\n",
    "        return fib(n-1) + fib(n-2)"
   ]
  },
  {
   "cell_type": "code",
   "execution_count": null,
   "metadata": {},
   "outputs": [
    {
     "name": "stdout",
     "output_type": "stream",
     "text": [
      "1\n",
      "3\n",
      "5\n",
      "7\n",
      "9\n"
     ]
    }
   ],
   "source": [
    "# 补充知识\n",
    "# range(start, stop, step)，生成一个从start开始到stop结束的序列，步长为step\n",
    "# range(1, 10)等价于range(1, 10, 2)，序列为[1, 3, 5, 7, 9]\n",
    "for i in range(1, 10, 2):\n",
    "    print(i)"
   ]
  },
  {
   "cell_type": "markdown",
   "metadata": {},
   "source": [
    "### 课堂练习\n",
    "学习使用CodeGeeX掌握Python格式化输出"
   ]
  },
  {
   "cell_type": "code",
   "execution_count": 39,
   "metadata": {},
   "outputs": [
    {
     "name": "stdout",
     "output_type": "stream",
     "text": [
      "fib(1)=1\n",
      "fib(2)=1\n",
      "fib(3)=2\n",
      "fib(4)=3\n",
      "fib(5)=5\n",
      "fib(6)=8\n",
      "fib(7)=13\n",
      "fib(8)=21\n",
      "fib(9)=34\n"
     ]
    }
   ],
   "source": [
    "for i in range(1, 10):\n",
    "    # print(\"fib(%s)=%s\" % (i, fib(i)))  # 格式化输出\n",
    "    print(f\"fib({i})={fib(i)}\")"
   ]
  },
  {
   "cell_type": "markdown",
   "metadata": {},
   "source": [
    "注：递归结构往往消耗内存较大，能用迭代解决的就尽量不用递归"
   ]
  },
  {
   "cell_type": "code",
   "execution_count": 40,
   "metadata": {},
   "outputs": [
    {
     "name": "stdout",
     "output_type": "stream",
     "text": [
      "fib_iter(1)=1\n",
      "fib_iter(2)=1\n",
      "fib_iter(3)=2\n",
      "fib_iter(4)=3\n",
      "fib_iter(5)=5\n",
      "fib_iter(6)=8\n",
      "fib_iter(7)=13\n",
      "fib_iter(8)=21\n",
      "fib_iter(9)=34\n"
     ]
    }
   ],
   "source": [
    "# 使用迭代的方式计算斐波那契数列\n",
    "def fib_iter(n):\n",
    "    a, b = 1, 1\n",
    "    for i in range(n-1):\n",
    "        a, b = b, a+b\n",
    "    return a\n",
    "for i in range(1, 10):\n",
    "    print(f\"fib_iter({i})={fib_iter(i)}\")"
   ]
  },
  {
   "cell_type": "markdown",
   "metadata": {},
   "source": [
    "2. 嵌套\n",
    "- 函数的嵌套是指在函数中调用另外的函数，这是函数式编程的重要结构，也是程序中最常用的一种程序结构"
   ]
  },
  {
   "cell_type": "code",
   "execution_count": 42,
   "metadata": {},
   "outputs": [
    {
     "name": "stdout",
     "output_type": "stream",
     "text": [
      "x1= -2.2807764064044154\n",
      "x2= -0.21922359359558485\n"
     ]
    }
   ],
   "source": [
    "# 定义输入函数\n",
    "def args_input():\n",
    "    try:\n",
    "        A = float(input(\"输入A：\"))\n",
    "        B = float(input(\"输入B：\"))\n",
    "        C = float(input(\"输入C：\"))\n",
    "        return A, B, C\n",
    "    except:  # 输入出错，则重新输入\n",
    "        print(\"请输入正确的数值类型！\")\n",
    "        return args_input()  # 为了出错时能够重新输入\n",
    "\n",
    "# 计算delta\n",
    "def get_delta(A, B, C):\n",
    "    return B**2 - 4 * A * C\n",
    "\n",
    "# 求解方程的根\n",
    "def solve():\n",
    "    A, B, C = args_input()\n",
    "    delta = get_delta(A, B, C)\n",
    "    if delta < 0:\n",
    "        print(\"该方程无解！\")\n",
    "    elif delta == 0:\n",
    "        x = B / (-2 * A)\n",
    "        print(\"x=\", x)\n",
    "    else:\n",
    "        # 计算x1和x2\n",
    "        x1 = (B + delta**0.5) / (-2 * A)\n",
    "        x2 = (B - delta**0.5) / (-2 * A)\n",
    "        print(\"x1=\", x1)\n",
    "        print(\"x2=\", x2)\n",
    "\n",
    "# 在当前程序下直接执行本程序\n",
    "def main():\n",
    "    solve()\n",
    "\n",
    "if __name__ == \"__main__\":\n",
    "    main()"
   ]
  },
  {
   "cell_type": "markdown",
   "metadata": {},
   "source": [
    "代码说明如下： \n",
    "``` \n",
    "\"\"\"\n",
    "if __name__ == \"__main__\":的意思是该代码.py文件被直接运行时，if __name__ == \"__main__\"之下的代码块将被运行；\n",
    "\n",
    "当该代码.py文件以模块形式被其他代码调用或者导入时，if __name__ == \"__main__\"之下的代码块将不会被执行。\n",
    "\"\"\"\n",
    "```"
   ]
  },
  {
   "cell_type": "markdown",
   "metadata": {},
   "source": [
    "## 3.2 特殊函数\n",
    "### 3.2.1 匿名函数lambda\n",
    "Python中允许用lambda函数定义一个匿名函数，所谓匿名函数即调用一次就不再被调用的函数，属于”一次性“函数"
   ]
  },
  {
   "cell_type": "code",
   "execution_count": 45,
   "metadata": {},
   "outputs": [
    {
     "name": "stdout",
     "output_type": "stream",
     "text": [
      "5\n"
     ]
    }
   ],
   "source": [
    "# 求两数之和，定义函数f(x, y) = x + y\n",
    "f = lambda x, y: x + y\n",
    "print(f(2, 3))"
   ]
  },
  {
   "cell_type": "code",
   "execution_count": 46,
   "metadata": {},
   "outputs": [
    {
     "name": "stdout",
     "output_type": "stream",
     "text": [
      "25\n"
     ]
    }
   ],
   "source": [
    "# 求两数的平方和：g(x, y) = x**2 + y**2\n",
    "print((lambda x, y: x**2 + y**2)(3, 4))  # 其实就是print(g(3, 4))"
   ]
  },
  {
   "cell_type": "markdown",
   "metadata": {},
   "source": [
    "### 3.2.2 关键字函数yield\n",
    "yield函数可以将函数执行的中间结果返回但又不结束程序。"
   ]
  },
  {
   "cell_type": "code",
   "execution_count": null,
   "metadata": {},
   "outputs": [
    {
     "ename": "SyntaxError",
     "evalue": "invalid character '。' (U+3002) (1763197400.py, line 2)",
     "output_type": "error",
     "traceback": [
      "\u001b[0;36m  Cell \u001b[0;32mIn[47], line 2\u001b[0;36m\u001b[0m\n\u001b[0;31m    yield函数可以将函数执行的中间结果返回但又不结束程序。\u001b[0m\n\u001b[0m                                ^\u001b[0m\n\u001b[0;31mSyntaxError\u001b[0m\u001b[0;31m:\u001b[0m invalid character '。' (U+3002)\n"
     ]
    }
   ],
   "source": []
  },
  {
   "cell_type": "markdown",
   "metadata": {},
   "source": []
  }
 ],
 "metadata": {
  "kernelspec": {
   "display_name": "base",
   "language": "python",
   "name": "python3"
  },
  "language_info": {
   "codemirror_mode": {
    "name": "ipython",
    "version": 3
   },
   "file_extension": ".py",
   "mimetype": "text/x-python",
   "name": "python",
   "nbconvert_exporter": "python",
   "pygments_lexer": "ipython3",
   "version": "3.9.12"
  }
 },
 "nbformat": 4,
 "nbformat_minor": 2
}
